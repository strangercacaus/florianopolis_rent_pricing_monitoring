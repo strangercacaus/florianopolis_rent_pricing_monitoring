{
 "cells": [
  {
   "cell_type": "code",
   "execution_count": 8,
   "metadata": {},
   "outputs": [],
   "source": [
    "import pandas as pd\n",
    "import json"
   ]
  },
  {
   "cell_type": "code",
   "execution_count": 34,
   "metadata": {},
   "outputs": [],
   "source": [
    "with open('raw/vivareal_listings-2023-11-02 18:49:42.091276.json','r') as records:\n",
    "    df = pd.DataFrame.from_dict(records)"
   ]
  },
  {
   "cell_type": "code",
   "execution_count": 42,
   "metadata": {},
   "outputs": [
    {
     "data": {
      "text/plain": [
       "0     {\"title\": \"Apartamento com 2 Quartos para Alug...\n",
       "1     {\"title\": \"Apartamento com  Quarto para Alugue...\n",
       "2     {\"title\": \"Sala/Conjunto    para Aluguel, 46m\\...\n",
       "3     {\"title\": \"Apartamento com 2 Quartos para Alug...\n",
       "4     {\"title\": \"Apartamento com 2 Quartos para Alug...\n",
       "5     {\"title\": \"Apartamento com 2 Quartos para Alug...\n",
       "6     {\"title\": \"Apartamento com  Quarto para Alugue...\n",
       "7     {\"title\": \"Sala/Conjunto    para Aluguel, 71m\\...\n",
       "8     {\"title\": \"Sala/Conjunto    para Aluguel, 60m\\...\n",
       "9     {\"title\": \"Sala/Conjunto    para Aluguel, 47m\\...\n",
       "10    {\"title\": \"Ponto comercial/Loja/Box    para Al...\n",
       "12    {\"title\": \"Apartamento com 2 Quartos para Alug...\n",
       "14    {\"title\": \"Apartamento com 2 Quartos para Alug...\n",
       "15    {\"title\": \"Apartamento com 2 Quartos para Alug...\n",
       "16    {\"title\": \"Apartamento com 2 Quartos para Alug...\n",
       "17    {\"title\": \"Apartamento com 2 Quartos para Alug...\n",
       "18    {\"title\": \"Apartamento com 2 Quartos para Alug...\n",
       "19    {\"title\": \"Sala/Conjunto    para Aluguel, 106m...\n",
       "21    {\"title\": \"Casa com 2 Quartos para Aluguel, 11...\n",
       "23    {\"title\": \"Casa com 3 Quartos para Aluguel, 20...\n",
       "24    {\"title\": \"Apartamento com  Quarto para Alugue...\n",
       "25    {\"title\": \"Casa com 4 Quartos para Aluguel, 28...\n",
       "26    {\"title\": \"Im\\u00f3vel comercial    para Alugu...\n",
       "27    {\"title\": \"Casa com 2 Quartos para Aluguel, 10...\n",
       "28    {\"title\": \"Apartamento com 2 Quartos para Alug...\n",
       "29    {\"title\": \"Ponto comercial/Loja/Box    para Al...\n",
       "30    {\"title\": \"Sala/Conjunto    para Aluguel, 80m\\...\n",
       "31    {\"title\": \"Apartamento com 2 Quartos para Alug...\n",
       "32    {\"title\": \"Apartamento com  Quarto para Alugue...\n",
       "33    {\"title\": \"Ponto comercial/Loja/Box    para Al...\n",
       "34    {\"title\": \"Ponto comercial/Loja/Box    para Al...\n",
       "35    {\"title\": \"Casa com 2 Quartos para Aluguel, 92...\n",
       "Name: 0, dtype: object"
      ]
     },
     "execution_count": 42,
     "metadata": {},
     "output_type": "execute_result"
    }
   ],
   "source": [
    "df = df[0].drop_duplicates()\n",
    "df"
   ]
  }
 ],
 "metadata": {
  "kernelspec": {
   "display_name": "env",
   "language": "python",
   "name": "python3"
  },
  "language_info": {
   "codemirror_mode": {
    "name": "ipython",
    "version": 3
   },
   "file_extension": ".py",
   "mimetype": "text/x-python",
   "name": "python",
   "nbconvert_exporter": "python",
   "pygments_lexer": "ipython3",
   "version": "3.11.4"
  }
 },
 "nbformat": 4,
 "nbformat_minor": 2
}
