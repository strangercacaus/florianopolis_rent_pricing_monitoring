{
 "cells": [
  {
   "cell_type": "code",
   "execution_count": 1,
   "metadata": {},
   "outputs": [
    {
     "name": "stdout",
     "output_type": "stream",
     "text": [
      "Requirement already satisfied: requests in /Users/cacau/Documents/GitHub/florianopolis_rent_pricing_monitoring/env/lib/python3.11/site-packages (from -r ../requirements.txt (line 1)) (2.31.0)\n",
      "Requirement already satisfied: pandas in /Users/cacau/Documents/GitHub/florianopolis_rent_pricing_monitoring/env/lib/python3.11/site-packages (from -r ../requirements.txt (line 2)) (2.1.3)\n",
      "Requirement already satisfied: bs4 in /Users/cacau/Documents/GitHub/florianopolis_rent_pricing_monitoring/env/lib/python3.11/site-packages (from -r ../requirements.txt (line 3)) (0.0.1)\n",
      "Requirement already satisfied: boto3 in /Users/cacau/Documents/GitHub/florianopolis_rent_pricing_monitoring/env/lib/python3.11/site-packages (from -r ../requirements.txt (line 4)) (1.33.7)\n",
      "Requirement already satisfied: selenium in /Users/cacau/Documents/GitHub/florianopolis_rent_pricing_monitoring/env/lib/python3.11/site-packages (from -r ../requirements.txt (line 5)) (4.15.2)\n",
      "Requirement already satisfied: html5lib in /Users/cacau/Documents/GitHub/florianopolis_rent_pricing_monitoring/env/lib/python3.11/site-packages (from -r ../requirements.txt (line 6)) (1.1)\n",
      "Requirement already satisfied: pyarrow in /Users/cacau/Documents/GitHub/florianopolis_rent_pricing_monitoring/env/lib/python3.11/site-packages (from -r ../requirements.txt (line 7)) (14.0.1)\n",
      "Requirement already satisfied: matplotlib in /Users/cacau/Documents/GitHub/florianopolis_rent_pricing_monitoring/env/lib/python3.11/site-packages (from -r ../requirements.txt (line 8)) (3.8.2)\n",
      "Requirement already satisfied: python-dotenv in /Users/cacau/Documents/GitHub/florianopolis_rent_pricing_monitoring/env/lib/python3.11/site-packages (from -r ../requirements.txt (line 9)) (1.0.0)\n",
      "Requirement already satisfied: charset-normalizer<4,>=2 in /Users/cacau/Documents/GitHub/florianopolis_rent_pricing_monitoring/env/lib/python3.11/site-packages (from requests->-r ../requirements.txt (line 1)) (3.3.2)\n",
      "Requirement already satisfied: idna<4,>=2.5 in /Users/cacau/Documents/GitHub/florianopolis_rent_pricing_monitoring/env/lib/python3.11/site-packages (from requests->-r ../requirements.txt (line 1)) (3.6)\n",
      "Requirement already satisfied: urllib3<3,>=1.21.1 in /Users/cacau/Documents/GitHub/florianopolis_rent_pricing_monitoring/env/lib/python3.11/site-packages (from requests->-r ../requirements.txt (line 1)) (2.0.7)\n",
      "Requirement already satisfied: certifi>=2017.4.17 in /Users/cacau/Documents/GitHub/florianopolis_rent_pricing_monitoring/env/lib/python3.11/site-packages (from requests->-r ../requirements.txt (line 1)) (2023.11.17)\n",
      "Requirement already satisfied: numpy<2,>=1.23.2 in /Users/cacau/Documents/GitHub/florianopolis_rent_pricing_monitoring/env/lib/python3.11/site-packages (from pandas->-r ../requirements.txt (line 2)) (1.26.2)\n",
      "Requirement already satisfied: python-dateutil>=2.8.2 in /Users/cacau/Documents/GitHub/florianopolis_rent_pricing_monitoring/env/lib/python3.11/site-packages (from pandas->-r ../requirements.txt (line 2)) (2.8.2)\n",
      "Requirement already satisfied: pytz>=2020.1 in /Users/cacau/Documents/GitHub/florianopolis_rent_pricing_monitoring/env/lib/python3.11/site-packages (from pandas->-r ../requirements.txt (line 2)) (2023.3.post1)\n",
      "Requirement already satisfied: tzdata>=2022.1 in /Users/cacau/Documents/GitHub/florianopolis_rent_pricing_monitoring/env/lib/python3.11/site-packages (from pandas->-r ../requirements.txt (line 2)) (2023.3)\n",
      "Requirement already satisfied: beautifulsoup4 in /Users/cacau/Documents/GitHub/florianopolis_rent_pricing_monitoring/env/lib/python3.11/site-packages (from bs4->-r ../requirements.txt (line 3)) (4.12.2)\n",
      "Requirement already satisfied: botocore<1.34.0,>=1.33.7 in /Users/cacau/Documents/GitHub/florianopolis_rent_pricing_monitoring/env/lib/python3.11/site-packages (from boto3->-r ../requirements.txt (line 4)) (1.33.7)\n",
      "Requirement already satisfied: jmespath<2.0.0,>=0.7.1 in /Users/cacau/Documents/GitHub/florianopolis_rent_pricing_monitoring/env/lib/python3.11/site-packages (from boto3->-r ../requirements.txt (line 4)) (1.0.1)\n",
      "Requirement already satisfied: s3transfer<0.9.0,>=0.8.2 in /Users/cacau/Documents/GitHub/florianopolis_rent_pricing_monitoring/env/lib/python3.11/site-packages (from boto3->-r ../requirements.txt (line 4)) (0.8.2)\n",
      "Requirement already satisfied: trio~=0.17 in /Users/cacau/Documents/GitHub/florianopolis_rent_pricing_monitoring/env/lib/python3.11/site-packages (from selenium->-r ../requirements.txt (line 5)) (0.23.1)\n",
      "Requirement already satisfied: trio-websocket~=0.9 in /Users/cacau/Documents/GitHub/florianopolis_rent_pricing_monitoring/env/lib/python3.11/site-packages (from selenium->-r ../requirements.txt (line 5)) (0.11.1)\n",
      "Requirement already satisfied: six>=1.9 in /Users/cacau/Documents/GitHub/florianopolis_rent_pricing_monitoring/env/lib/python3.11/site-packages (from html5lib->-r ../requirements.txt (line 6)) (1.16.0)\n",
      "Requirement already satisfied: webencodings in /Users/cacau/Documents/GitHub/florianopolis_rent_pricing_monitoring/env/lib/python3.11/site-packages (from html5lib->-r ../requirements.txt (line 6)) (0.5.1)\n",
      "Requirement already satisfied: contourpy>=1.0.1 in /Users/cacau/Documents/GitHub/florianopolis_rent_pricing_monitoring/env/lib/python3.11/site-packages (from matplotlib->-r ../requirements.txt (line 8)) (1.2.0)\n",
      "Requirement already satisfied: cycler>=0.10 in /Users/cacau/Documents/GitHub/florianopolis_rent_pricing_monitoring/env/lib/python3.11/site-packages (from matplotlib->-r ../requirements.txt (line 8)) (0.12.1)\n",
      "Requirement already satisfied: fonttools>=4.22.0 in /Users/cacau/Documents/GitHub/florianopolis_rent_pricing_monitoring/env/lib/python3.11/site-packages (from matplotlib->-r ../requirements.txt (line 8)) (4.46.0)\n",
      "Requirement already satisfied: kiwisolver>=1.3.1 in /Users/cacau/Documents/GitHub/florianopolis_rent_pricing_monitoring/env/lib/python3.11/site-packages (from matplotlib->-r ../requirements.txt (line 8)) (1.4.5)\n",
      "Requirement already satisfied: packaging>=20.0 in /Users/cacau/Documents/GitHub/florianopolis_rent_pricing_monitoring/env/lib/python3.11/site-packages (from matplotlib->-r ../requirements.txt (line 8)) (23.2)\n",
      "Requirement already satisfied: pillow>=8 in /Users/cacau/Documents/GitHub/florianopolis_rent_pricing_monitoring/env/lib/python3.11/site-packages (from matplotlib->-r ../requirements.txt (line 8)) (10.1.0)\n",
      "Requirement already satisfied: pyparsing>=2.3.1 in /Users/cacau/Documents/GitHub/florianopolis_rent_pricing_monitoring/env/lib/python3.11/site-packages (from matplotlib->-r ../requirements.txt (line 8)) (3.1.1)\n",
      "Requirement already satisfied: attrs>=20.1.0 in /Users/cacau/Documents/GitHub/florianopolis_rent_pricing_monitoring/env/lib/python3.11/site-packages (from trio~=0.17->selenium->-r ../requirements.txt (line 5)) (23.1.0)\n",
      "Requirement already satisfied: sortedcontainers in /Users/cacau/Documents/GitHub/florianopolis_rent_pricing_monitoring/env/lib/python3.11/site-packages (from trio~=0.17->selenium->-r ../requirements.txt (line 5)) (2.4.0)\n",
      "Requirement already satisfied: outcome in /Users/cacau/Documents/GitHub/florianopolis_rent_pricing_monitoring/env/lib/python3.11/site-packages (from trio~=0.17->selenium->-r ../requirements.txt (line 5)) (1.3.0.post0)\n",
      "Requirement already satisfied: sniffio>=1.3.0 in /Users/cacau/Documents/GitHub/florianopolis_rent_pricing_monitoring/env/lib/python3.11/site-packages (from trio~=0.17->selenium->-r ../requirements.txt (line 5)) (1.3.0)\n",
      "Requirement already satisfied: wsproto>=0.14 in /Users/cacau/Documents/GitHub/florianopolis_rent_pricing_monitoring/env/lib/python3.11/site-packages (from trio-websocket~=0.9->selenium->-r ../requirements.txt (line 5)) (1.2.0)\n",
      "Requirement already satisfied: pysocks!=1.5.7,<2.0,>=1.5.6 in /Users/cacau/Documents/GitHub/florianopolis_rent_pricing_monitoring/env/lib/python3.11/site-packages (from urllib3<3,>=1.21.1->requests->-r ../requirements.txt (line 1)) (1.7.1)\n",
      "Requirement already satisfied: soupsieve>1.2 in /Users/cacau/Documents/GitHub/florianopolis_rent_pricing_monitoring/env/lib/python3.11/site-packages (from beautifulsoup4->bs4->-r ../requirements.txt (line 3)) (2.5)\n",
      "Requirement already satisfied: h11<1,>=0.9.0 in /Users/cacau/Documents/GitHub/florianopolis_rent_pricing_monitoring/env/lib/python3.11/site-packages (from wsproto>=0.14->trio-websocket~=0.9->selenium->-r ../requirements.txt (line 5)) (0.14.0)\n",
      "\u001b[33mWARNING: There was an error checking the latest version of pip.\u001b[0m\u001b[33m\n",
      "\u001b[0mNote: you may need to restart the kernel to use updated packages.\n"
     ]
    }
   ],
   "source": [
    "pip install -r ../requirements.txt"
   ]
  },
  {
   "cell_type": "code",
   "execution_count": 2,
   "metadata": {},
   "outputs": [],
   "source": [
    "from dotenv import load_dotenv\n",
    "import os\n",
    "import sys\n",
    "\n",
    "import selenium\n",
    "from selenium import webdriver\n",
    "import boto3"
   ]
  },
  {
   "cell_type": "code",
   "execution_count": 3,
   "metadata": {},
   "outputs": [],
   "source": [
    "load_dotenv()\n",
    "\n",
    "aws_access_key_id = os.getenv('AWS_ID')\n",
    "aws_secret_access_key = os.getenv('AWS_KEY')\n",
    "github_token = os.getenv('GITHUB_TOKEN')\n",
    "\n",
    "s3 = boto3.client('s3',aws_access_key_id = aws_access_key_id, aws_secret_access_key=aws_secret_access_key)"
   ]
  },
  {
   "cell_type": "code",
   "execution_count": 4,
   "metadata": {},
   "outputs": [],
   "source": [
    "proxy_host = os.getenv('PROXY_HOST')\n",
    "proxy_username = os.getenv('PROXY_USERNAME')\n",
    "proxy_password = os.getenv('PROXY_PASSWORD')"
   ]
  },
  {
   "cell_type": "code",
   "execution_count": 5,
   "metadata": {},
   "outputs": [],
   "source": [
    "options = webdriver.ChromeOptions()\n",
    "options.add_argument(\"--incognito\")\n",
    "#options.add_argument(\"--headless\")\n",
    "options.add_argument(f'--proxy-server=http://{proxy_host}')\n",
    "options.add_argument(f'--proxy-auth={proxy_username}:{proxy_password}')\n",
    "driver = webdriver.Chrome(options=options)"
   ]
  },
  {
   "cell_type": "code",
   "execution_count": 6,
   "metadata": {},
   "outputs": [
    {
     "data": {
      "text/plain": [
       "{'chromedriverVersion': '119.0.6045.105 (38c72552c5e15ba9b3117c0967a0fd105072d7c6-refs/branch-heads/6045@{#1103})',\n",
       " 'userDataDir': '/var/folders/2z/_rgstgys255b1k3j7qnrtjrw0000gn/T/.org.chromium.Chromium.JYUL8Q'}"
      ]
     },
     "execution_count": 6,
     "metadata": {},
     "output_type": "execute_result"
    }
   ],
   "source": [
    "driver.capabilities['chrome']"
   ]
  },
  {
   "cell_type": "code",
   "execution_count": 7,
   "metadata": {},
   "outputs": [],
   "source": [
    "sys.path.insert(0,'/Users/cacau/Documents/GitHub/florianopolis_rent_pricing_monitoring/code/src')"
   ]
  },
  {
   "cell_type": "code",
   "execution_count": 8,
   "metadata": {},
   "outputs": [],
   "source": [
    "from extractors import Formatter, Extractor\n",
    "from ingestors import Ingestor"
   ]
  },
  {
   "cell_type": "code",
   "execution_count": null,
   "metadata": {},
   "outputs": [],
   "source": [
    "datestr = datetime.today().date()"
   ]
  },
  {
   "cell_type": "code",
   "execution_count": 9,
   "metadata": {},
   "outputs": [],
   "source": [
    "def ingest(driver=None, s3=None, all=True, max_pages=None):\n",
    "    from ingestors import Ingestor\n",
    "\n",
    "    ingestor = Ingestor(webdriver=driver,\n",
    "                    cidade='florianopolis',\n",
    "                    s3=s3) # Instanciando API\n",
    "\n",
    "    # Chamando a função de ingestão\n",
    "    ingestor.ingest_pages(\n",
    "        filename_pattern='page',\n",
    "        delay_seconds=1.4,\n",
    "        all=all,\n",
    "        max_pages=max_pages)\n",
    "ingest(s3=s3,driver=driver, all=True)"
   ]
  },
  {
   "cell_type": "code",
   "execution_count": 10,
   "metadata": {},
   "outputs": [
    {
     "name": "stderr",
     "output_type": "stream",
     "text": [
      "2023-12-06 13:17:55,377 - INFO - 36 new listings added to result set\n",
      "2023-12-06 13:17:56,077 - INFO - 35 new listings added to result set\n",
      "2023-12-06 13:17:57,013 - INFO - 36 new listings added to result set\n",
      "2023-12-06 13:17:57,982 - INFO - 35 new listings added to result set\n"
     ]
    },
    {
     "ename": "KeyboardInterrupt",
     "evalue": "",
     "output_type": "error",
     "traceback": [
      "\u001b[0;31m---------------------------------------------------------------------------\u001b[0m",
      "\u001b[0;31mKeyboardInterrupt\u001b[0m                         Traceback (most recent call last)",
      "\u001b[1;32m/Users/cacau/Documents/GitHub/florianopolis_rent_pricing_monitoring/tests/control_flow.ipynb Célula 10\u001b[0m line \u001b[0;36m1\n\u001b[1;32m     <a href='vscode-notebook-cell:/Users/cacau/Documents/GitHub/florianopolis_rent_pricing_monitoring/tests/control_flow.ipynb#X12sZmlsZQ%3D%3D?line=13'>14</a>\u001b[0m dates \u001b[39m=\u001b[39m [\u001b[39m'\u001b[39m\u001b[39m2023-12-05\u001b[39m\u001b[39m'\u001b[39m]\n\u001b[1;32m     <a href='vscode-notebook-cell:/Users/cacau/Documents/GitHub/florianopolis_rent_pricing_monitoring/tests/control_flow.ipynb#X12sZmlsZQ%3D%3D?line=14'>15</a>\u001b[0m \u001b[39mfor\u001b[39;00m i \u001b[39min\u001b[39;00m dates:\n\u001b[0;32m---> <a href='vscode-notebook-cell:/Users/cacau/Documents/GitHub/florianopolis_rent_pricing_monitoring/tests/control_flow.ipynb#X12sZmlsZQ%3D%3D?line=15'>16</a>\u001b[0m     extract(date\u001b[39m=\u001b[39;49mi,s3\u001b[39m=\u001b[39;49ms3)\n",
      "\u001b[1;32m/Users/cacau/Documents/GitHub/florianopolis_rent_pricing_monitoring/tests/control_flow.ipynb Célula 10\u001b[0m line \u001b[0;36m1\n\u001b[1;32m      <a href='vscode-notebook-cell:/Users/cacau/Documents/GitHub/florianopolis_rent_pricing_monitoring/tests/control_flow.ipynb#X12sZmlsZQ%3D%3D?line=6'>7</a>\u001b[0m folder_base_path \u001b[39m=\u001b[39m \u001b[39m'\u001b[39m\u001b[39mpipeline/raw/vivareal/florianopolis/\u001b[39m\u001b[39m'\u001b[39m\n\u001b[1;32m      <a href='vscode-notebook-cell:/Users/cacau/Documents/GitHub/florianopolis_rent_pricing_monitoring/tests/control_flow.ipynb#X12sZmlsZQ%3D%3D?line=7'>8</a>\u001b[0m folder_path \u001b[39m=\u001b[39m \u001b[39mf\u001b[39m\u001b[39m'\u001b[39m\u001b[39m{\u001b[39;00mfolder_base_path\u001b[39m}\u001b[39;00m\u001b[39m{\u001b[39;00mdate\u001b[39m}\u001b[39;00m\u001b[39m'\u001b[39m\n\u001b[0;32m---> <a href='vscode-notebook-cell:/Users/cacau/Documents/GitHub/florianopolis_rent_pricing_monitoring/tests/control_flow.ipynb#X12sZmlsZQ%3D%3D?line=9'>10</a>\u001b[0m extractor\u001b[39m.\u001b[39;49mprocess_folder(bucket_name \u001b[39m=\u001b[39;49m \u001b[39m'\u001b[39;49m\u001b[39mfloriparentpricing\u001b[39;49m\u001b[39m'\u001b[39;49m,\n\u001b[1;32m     <a href='vscode-notebook-cell:/Users/cacau/Documents/GitHub/florianopolis_rent_pricing_monitoring/tests/control_flow.ipynb#X12sZmlsZQ%3D%3D?line=10'>11</a>\u001b[0m                     folder_path\u001b[39m=\u001b[39;49mfolder_path,\n\u001b[1;32m     <a href='vscode-notebook-cell:/Users/cacau/Documents/GitHub/florianopolis_rent_pricing_monitoring/tests/control_flow.ipynb#X12sZmlsZQ%3D%3D?line=11'>12</a>\u001b[0m                     filename_pattern\u001b[39m=\u001b[39;49m\u001b[39m'\u001b[39;49m\u001b[39mprocessed\u001b[39;49m\u001b[39m'\u001b[39;49m,\n\u001b[1;32m     <a href='vscode-notebook-cell:/Users/cacau/Documents/GitHub/florianopolis_rent_pricing_monitoring/tests/control_flow.ipynb#X12sZmlsZQ%3D%3D?line=12'>13</a>\u001b[0m                     output_format\u001b[39m=\u001b[39;49m\u001b[39m'\u001b[39;49m\u001b[39mparquet\u001b[39;49m\u001b[39m'\u001b[39;49m)\n",
      "File \u001b[0;32m~/Documents/GitHub/florianopolis_rent_pricing_monitoring/code/src/extractors.py:160\u001b[0m, in \u001b[0;36mExtractor.process_folder\u001b[0;34m(self, bucket_name, folder_path, filename_pattern, output_format, max_pages)\u001b[0m\n\u001b[1;32m    158\u001b[0m     response \u001b[39m=\u001b[39m \u001b[39mself\u001b[39m\u001b[39m.\u001b[39ms3\u001b[39m.\u001b[39mget_object(Bucket\u001b[39m=\u001b[39mbucket_name, Key\u001b[39m=\u001b[39mfile_name)\n\u001b[1;32m    159\u001b[0m     html_content \u001b[39m=\u001b[39m response[\u001b[39m'\u001b[39m\u001b[39mBody\u001b[39m\u001b[39m'\u001b[39m]\u001b[39m.\u001b[39mread()\u001b[39m.\u001b[39mdecode(\u001b[39m'\u001b[39m\u001b[39mutf-8\u001b[39m\u001b[39m'\u001b[39m)\n\u001b[0;32m--> 160\u001b[0m     \u001b[39mself\u001b[39;49m\u001b[39m.\u001b[39;49mprocess_file(html_content)\n\u001b[1;32m    161\u001b[0m     pages \u001b[39m+\u001b[39m\u001b[39m=\u001b[39m \u001b[39m1\u001b[39m\n\u001b[1;32m    162\u001b[0m \u001b[39mif\u001b[39;00m max_pages \u001b[39mand\u001b[39;00m (pages \u001b[39m>\u001b[39m max_pages):\n",
      "File \u001b[0;32m~/Documents/GitHub/florianopolis_rent_pricing_monitoring/code/src/extractors.py:128\u001b[0m, in \u001b[0;36mExtractor.process_file\u001b[0;34m(self, file)\u001b[0m\n\u001b[1;32m    111\u001b[0m \u001b[39m\u001b[39m\u001b[39m\"\"\"\u001b[39;00m\n\u001b[1;32m    112\u001b[0m \u001b[39mIngere a página atual de anúncios utilizando os métodos internos da API.\u001b[39;00m\n\u001b[1;32m    113\u001b[0m \n\u001b[0;32m   (...)\u001b[0m\n\u001b[1;32m    125\u001b[0m \u001b[39m    None.\u001b[39;00m\n\u001b[1;32m    126\u001b[0m \u001b[39m\"\"\"\u001b[39;00m\n\u001b[1;32m    127\u001b[0m \u001b[39mtry\u001b[39;00m:\n\u001b[0;32m--> 128\u001b[0m     soup \u001b[39m=\u001b[39m \u001b[39mself\u001b[39;49m\u001b[39m.\u001b[39;49mparse_html(html\u001b[39m=\u001b[39;49mfile)\n\u001b[1;32m    129\u001b[0m     listings \u001b[39m=\u001b[39m \u001b[39mself\u001b[39m\u001b[39m.\u001b[39mextract_listings_from_soup(soup\u001b[39m=\u001b[39msoup)\n\u001b[1;32m    130\u001b[0m     added_listings \u001b[39m=\u001b[39m \u001b[39mset\u001b[39m()\n",
      "File \u001b[0;32m~/Documents/GitHub/florianopolis_rent_pricing_monitoring/code/src/extractors.py:90\u001b[0m, in \u001b[0;36mExtractor.parse_html\u001b[0;34m(self, html)\u001b[0m\n\u001b[1;32m     80\u001b[0m \u001b[39mdef\u001b[39;00m \u001b[39mparse_html\u001b[39m(\u001b[39mself\u001b[39m, html\u001b[39m=\u001b[39m\u001b[39mNone\u001b[39;00m) \u001b[39m-\u001b[39m\u001b[39m>\u001b[39m bs4\u001b[39m.\u001b[39mBeautifulSoup:\n\u001b[1;32m     81\u001b[0m \u001b[39m    \u001b[39m\u001b[39m\"\"\"\u001b[39;00m\n\u001b[1;32m     82\u001b[0m \u001b[39m    Transforma o conteúdo html da response em um objeto bs4.BeautifulSoup.\u001b[39;00m\n\u001b[1;32m     83\u001b[0m \n\u001b[0;32m   (...)\u001b[0m\n\u001b[1;32m     88\u001b[0m \u001b[39m        Um objeto BeautifulSoup representando a resposta HTML analisada.\u001b[39;00m\n\u001b[1;32m     89\u001b[0m \u001b[39m    \"\"\"\u001b[39;00m\n\u001b[0;32m---> 90\u001b[0m     \u001b[39mreturn\u001b[39;00m bs4\u001b[39m.\u001b[39;49mBeautifulSoup(html, features\u001b[39m=\u001b[39;49m\u001b[39m\"\u001b[39;49m\u001b[39mhtml5lib\u001b[39;49m\u001b[39m\"\u001b[39;49m)\n",
      "File \u001b[0;32m~/Documents/GitHub/florianopolis_rent_pricing_monitoring/env/lib/python3.11/site-packages/bs4/__init__.py:335\u001b[0m, in \u001b[0;36mBeautifulSoup.__init__\u001b[0;34m(self, markup, features, builder, parse_only, from_encoding, exclude_encodings, element_classes, **kwargs)\u001b[0m\n\u001b[1;32m    333\u001b[0m \u001b[39mself\u001b[39m\u001b[39m.\u001b[39mbuilder\u001b[39m.\u001b[39minitialize_soup(\u001b[39mself\u001b[39m)\n\u001b[1;32m    334\u001b[0m \u001b[39mtry\u001b[39;00m:\n\u001b[0;32m--> 335\u001b[0m     \u001b[39mself\u001b[39;49m\u001b[39m.\u001b[39;49m_feed()\n\u001b[1;32m    336\u001b[0m     success \u001b[39m=\u001b[39m \u001b[39mTrue\u001b[39;00m\n\u001b[1;32m    337\u001b[0m     \u001b[39mbreak\u001b[39;00m\n",
      "File \u001b[0;32m~/Documents/GitHub/florianopolis_rent_pricing_monitoring/env/lib/python3.11/site-packages/bs4/__init__.py:478\u001b[0m, in \u001b[0;36mBeautifulSoup._feed\u001b[0;34m(self)\u001b[0m\n\u001b[1;32m    475\u001b[0m \u001b[39m# Convert the document to Unicode.\u001b[39;00m\n\u001b[1;32m    476\u001b[0m \u001b[39mself\u001b[39m\u001b[39m.\u001b[39mbuilder\u001b[39m.\u001b[39mreset()\n\u001b[0;32m--> 478\u001b[0m \u001b[39mself\u001b[39;49m\u001b[39m.\u001b[39;49mbuilder\u001b[39m.\u001b[39;49mfeed(\u001b[39mself\u001b[39;49m\u001b[39m.\u001b[39;49mmarkup)\n\u001b[1;32m    479\u001b[0m \u001b[39m# Close out any unfinished strings and close all the open tags.\u001b[39;00m\n\u001b[1;32m    480\u001b[0m \u001b[39mself\u001b[39m\u001b[39m.\u001b[39mendData()\n",
      "File \u001b[0;32m~/Documents/GitHub/florianopolis_rent_pricing_monitoring/env/lib/python3.11/site-packages/bs4/builder/_html5lib.py:99\u001b[0m, in \u001b[0;36mHTML5TreeBuilder.feed\u001b[0;34m(self, markup)\u001b[0m\n\u001b[1;32m     97\u001b[0m     \u001b[39melse\u001b[39;00m:\n\u001b[1;32m     98\u001b[0m         extra_kwargs[\u001b[39m'\u001b[39m\u001b[39mencoding\u001b[39m\u001b[39m'\u001b[39m] \u001b[39m=\u001b[39m \u001b[39mself\u001b[39m\u001b[39m.\u001b[39muser_specified_encoding\n\u001b[0;32m---> 99\u001b[0m doc \u001b[39m=\u001b[39m parser\u001b[39m.\u001b[39;49mparse(markup, \u001b[39m*\u001b[39;49m\u001b[39m*\u001b[39;49mextra_kwargs)\n\u001b[1;32m    101\u001b[0m \u001b[39m# Set the character encoding detected by the tokenizer.\u001b[39;00m\n\u001b[1;32m    102\u001b[0m \u001b[39mif\u001b[39;00m \u001b[39misinstance\u001b[39m(markup, \u001b[39mstr\u001b[39m):\n\u001b[1;32m    103\u001b[0m     \u001b[39m# We need to special-case this because html5lib sets\u001b[39;00m\n\u001b[1;32m    104\u001b[0m     \u001b[39m# charEncoding to UTF-8 if it gets Unicode input.\u001b[39;00m\n",
      "File \u001b[0;32m~/Documents/GitHub/florianopolis_rent_pricing_monitoring/env/lib/python3.11/site-packages/html5lib/html5parser.py:284\u001b[0m, in \u001b[0;36mHTMLParser.parse\u001b[0;34m(self, stream, *args, **kwargs)\u001b[0m\n\u001b[1;32m    262\u001b[0m \u001b[39mdef\u001b[39;00m \u001b[39mparse\u001b[39m(\u001b[39mself\u001b[39m, stream, \u001b[39m*\u001b[39margs, \u001b[39m*\u001b[39m\u001b[39m*\u001b[39mkwargs):\n\u001b[1;32m    263\u001b[0m \u001b[39m    \u001b[39m\u001b[39m\"\"\"Parse a HTML document into a well-formed tree\u001b[39;00m\n\u001b[1;32m    264\u001b[0m \n\u001b[1;32m    265\u001b[0m \u001b[39m    :arg stream: a file-like object or string containing the HTML to be parsed\u001b[39;00m\n\u001b[0;32m   (...)\u001b[0m\n\u001b[1;32m    282\u001b[0m \n\u001b[1;32m    283\u001b[0m \u001b[39m    \"\"\"\u001b[39;00m\n\u001b[0;32m--> 284\u001b[0m     \u001b[39mself\u001b[39;49m\u001b[39m.\u001b[39;49m_parse(stream, \u001b[39mFalse\u001b[39;49;00m, \u001b[39mNone\u001b[39;49;00m, \u001b[39m*\u001b[39;49margs, \u001b[39m*\u001b[39;49m\u001b[39m*\u001b[39;49mkwargs)\n\u001b[1;32m    285\u001b[0m     \u001b[39mreturn\u001b[39;00m \u001b[39mself\u001b[39m\u001b[39m.\u001b[39mtree\u001b[39m.\u001b[39mgetDocument()\n",
      "File \u001b[0;32m~/Documents/GitHub/florianopolis_rent_pricing_monitoring/env/lib/python3.11/site-packages/html5lib/html5parser.py:133\u001b[0m, in \u001b[0;36mHTMLParser._parse\u001b[0;34m(self, stream, innerHTML, container, scripting, **kwargs)\u001b[0m\n\u001b[1;32m    130\u001b[0m \u001b[39mself\u001b[39m\u001b[39m.\u001b[39mreset()\n\u001b[1;32m    132\u001b[0m \u001b[39mtry\u001b[39;00m:\n\u001b[0;32m--> 133\u001b[0m     \u001b[39mself\u001b[39;49m\u001b[39m.\u001b[39;49mmainLoop()\n\u001b[1;32m    134\u001b[0m \u001b[39mexcept\u001b[39;00m _ReparseException:\n\u001b[1;32m    135\u001b[0m     \u001b[39mself\u001b[39m\u001b[39m.\u001b[39mreset()\n",
      "File \u001b[0;32m~/Documents/GitHub/florianopolis_rent_pricing_monitoring/env/lib/python3.11/site-packages/html5lib/html5parser.py:238\u001b[0m, in \u001b[0;36mHTMLParser.mainLoop\u001b[0;34m(self)\u001b[0m\n\u001b[1;32m    236\u001b[0m     new_token \u001b[39m=\u001b[39m phase\u001b[39m.\u001b[39mprocessCharacters(new_token)\n\u001b[1;32m    237\u001b[0m \u001b[39melif\u001b[39;00m \u001b[39mtype\u001b[39m \u001b[39m==\u001b[39m SpaceCharactersToken:\n\u001b[0;32m--> 238\u001b[0m     new_token \u001b[39m=\u001b[39m phase\u001b[39m.\u001b[39;49mprocessSpaceCharacters(new_token)\n\u001b[1;32m    239\u001b[0m \u001b[39melif\u001b[39;00m \u001b[39mtype\u001b[39m \u001b[39m==\u001b[39m StartTagToken:\n\u001b[1;32m    240\u001b[0m     new_token \u001b[39m=\u001b[39m phase\u001b[39m.\u001b[39mprocessStartTag(new_token)\n",
      "File \u001b[0;32m~/Documents/GitHub/florianopolis_rent_pricing_monitoring/env/lib/python3.11/site-packages/html5lib/html5parser.py:1011\u001b[0m, in \u001b[0;36mgetPhases.<locals>.InBodyPhase.processSpaceCharactersNonPre\u001b[0;34m(self, token)\u001b[0m\n\u001b[1;32m   1009\u001b[0m \u001b[39mdef\u001b[39;00m \u001b[39mprocessSpaceCharactersNonPre\u001b[39m(\u001b[39mself\u001b[39m, token):\n\u001b[1;32m   1010\u001b[0m     \u001b[39mself\u001b[39m\u001b[39m.\u001b[39mtree\u001b[39m.\u001b[39mreconstructActiveFormattingElements()\n\u001b[0;32m-> 1011\u001b[0m     \u001b[39mself\u001b[39;49m\u001b[39m.\u001b[39;49mtree\u001b[39m.\u001b[39;49minsertText(token[\u001b[39m\"\u001b[39;49m\u001b[39mdata\u001b[39;49m\u001b[39m\"\u001b[39;49m])\n",
      "File \u001b[0;32m~/Documents/GitHub/florianopolis_rent_pricing_monitoring/env/lib/python3.11/site-packages/html5lib/treebuilders/base.py:349\u001b[0m, in \u001b[0;36mTreeBuilder.insertText\u001b[0;34m(self, data, parent)\u001b[0m\n\u001b[1;32m    346\u001b[0m         \u001b[39mself\u001b[39m\u001b[39m.\u001b[39mopenElements\u001b[39m.\u001b[39mappend(element)\n\u001b[1;32m    347\u001b[0m     \u001b[39mreturn\u001b[39;00m element\n\u001b[0;32m--> 349\u001b[0m \u001b[39mdef\u001b[39;00m \u001b[39minsertText\u001b[39m(\u001b[39mself\u001b[39m, data, parent\u001b[39m=\u001b[39m\u001b[39mNone\u001b[39;00m):\n\u001b[1;32m    350\u001b[0m \u001b[39m    \u001b[39m\u001b[39m\"\"\"Insert text data.\"\"\"\u001b[39;00m\n\u001b[1;32m    351\u001b[0m     \u001b[39mif\u001b[39;00m parent \u001b[39mis\u001b[39;00m \u001b[39mNone\u001b[39;00m:\n",
      "\u001b[0;31mKeyboardInterrupt\u001b[0m: "
     ]
    }
   ],
   "source": [
    "def extract(date=datestr,s3=None):\n",
    "    from extractors import Extractor\n",
    "\n",
    "    extractor = Extractor(cidade='florianopolis',\n",
    "                    s3=s3) # Instanciando API\n",
    "\n",
    "    folder_base_path = 'pipeline/raw/vivareal/florianopolis/'\n",
    "    folder_path = f'{folder_base_path}{date}'\n",
    "\n",
    "    extractor.process_folder(bucket_name = 'floriparentpricing',\n",
    "                        folder_path=folder_path,\n",
    "                        filename_pattern='processed',\n",
    "                        output_format='parquet')\n",
    "dates = [datestr]\n",
    "for i in dates:\n",
    "    extract(date=i,s3=s3)\n"
   ]
  },
  {
   "cell_type": "code",
   "execution_count": null,
   "metadata": {},
   "outputs": [],
   "source": [
    "formatter = Formatter(s3=s3) # Instanciando API\n",
    "\n",
    "dates = [datestr]\n",
    "for i in dates:\n",
    "    formatter.run(\n",
    "         bucket_name='floriparentpricing',\n",
    "         datestr=i)"
   ]
  },
  {
   "cell_type": "code",
   "execution_count": 11,
   "metadata": {},
   "outputs": [],
   "source": [
    "from utils import Aggregator\n",
    "import pandas as pd\n",
    "aggregator = Aggregator(s3=s3) # Instanciando API\n",
    "\n",
    "aggregator.run(\n",
    "        bucket_name='floriparentpricing', export_method='s3')\n",
    "df = aggregator.run(\n",
    "        bucket_name='floriparentpricing', export_method='df')"
   ]
  },
  {
   "cell_type": "code",
   "execution_count": 12,
   "metadata": {},
   "outputs": [
    {
     "name": "stderr",
     "output_type": "stream",
     "text": [
      "2023-12-06 13:18:38,127 - INFO - File updated successfully.\n"
     ]
    }
   ],
   "source": [
    "from utils import GithubApi\n",
    "\n",
    "api = GithubApi(token=github_token,\n",
    "                owner='strangercacaus',\n",
    "                repo='florianopolis_rent_pricing_monitoring',\n",
    "                branch='main')\n",
    "\n",
    "api.update_file_content(file_path='data/full_history.csv',\n",
    "                         new_content = df,\n",
    "                         method='overwrite')"
   ]
  },
  {
   "cell_type": "markdown",
   "metadata": {},
   "source": []
  }
 ],
 "metadata": {
  "kernelspec": {
   "display_name": "env",
   "language": "python",
   "name": "python3"
  },
  "language_info": {
   "codemirror_mode": {
    "name": "ipython",
    "version": 3
   },
   "file_extension": ".py",
   "mimetype": "text/x-python",
   "name": "python",
   "nbconvert_exporter": "python",
   "pygments_lexer": "ipython3",
   "version": "3.11.4"
  }
 },
 "nbformat": 4,
 "nbformat_minor": 2
}
