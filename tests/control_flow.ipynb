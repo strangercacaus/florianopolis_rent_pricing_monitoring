{
 "cells": [
  {
   "cell_type": "code",
   "execution_count": 1,
   "metadata": {},
   "outputs": [
    {
     "name": "stdout",
     "output_type": "stream",
     "text": [
      "Requirement already satisfied: requests in /Users/cacau/Documents/GitHub/florianopolis_rent_pricing_monitoring/env/lib/python3.11/site-packages (from -r ../requirements.txt (line 1)) (2.31.0)\n",
      "Requirement already satisfied: pandas in /Users/cacau/Documents/GitHub/florianopolis_rent_pricing_monitoring/env/lib/python3.11/site-packages (from -r ../requirements.txt (line 2)) (2.1.3)\n",
      "Requirement already satisfied: bs4 in /Users/cacau/Documents/GitHub/florianopolis_rent_pricing_monitoring/env/lib/python3.11/site-packages (from -r ../requirements.txt (line 3)) (0.0.1)\n",
      "Requirement already satisfied: boto3 in /Users/cacau/Documents/GitHub/florianopolis_rent_pricing_monitoring/env/lib/python3.11/site-packages (from -r ../requirements.txt (line 4)) (1.33.7)\n",
      "Requirement already satisfied: selenium in /Users/cacau/Documents/GitHub/florianopolis_rent_pricing_monitoring/env/lib/python3.11/site-packages (from -r ../requirements.txt (line 5)) (4.15.2)\n",
      "Requirement already satisfied: html5lib in /Users/cacau/Documents/GitHub/florianopolis_rent_pricing_monitoring/env/lib/python3.11/site-packages (from -r ../requirements.txt (line 6)) (1.1)\n",
      "Requirement already satisfied: pyarrow in /Users/cacau/Documents/GitHub/florianopolis_rent_pricing_monitoring/env/lib/python3.11/site-packages (from -r ../requirements.txt (line 7)) (14.0.1)\n",
      "Requirement already satisfied: matplotlib in /Users/cacau/Documents/GitHub/florianopolis_rent_pricing_monitoring/env/lib/python3.11/site-packages (from -r ../requirements.txt (line 8)) (3.8.2)\n",
      "Requirement already satisfied: python-dotenv in /Users/cacau/Documents/GitHub/florianopolis_rent_pricing_monitoring/env/lib/python3.11/site-packages (from -r ../requirements.txt (line 9)) (1.0.0)\n",
      "Requirement already satisfied: charset-normalizer<4,>=2 in /Users/cacau/Documents/GitHub/florianopolis_rent_pricing_monitoring/env/lib/python3.11/site-packages (from requests->-r ../requirements.txt (line 1)) (3.3.2)\n",
      "Requirement already satisfied: idna<4,>=2.5 in /Users/cacau/Documents/GitHub/florianopolis_rent_pricing_monitoring/env/lib/python3.11/site-packages (from requests->-r ../requirements.txt (line 1)) (3.6)\n",
      "Requirement already satisfied: urllib3<3,>=1.21.1 in /Users/cacau/Documents/GitHub/florianopolis_rent_pricing_monitoring/env/lib/python3.11/site-packages (from requests->-r ../requirements.txt (line 1)) (2.0.7)\n",
      "Requirement already satisfied: certifi>=2017.4.17 in /Users/cacau/Documents/GitHub/florianopolis_rent_pricing_monitoring/env/lib/python3.11/site-packages (from requests->-r ../requirements.txt (line 1)) (2023.11.17)\n",
      "Requirement already satisfied: numpy<2,>=1.23.2 in /Users/cacau/Documents/GitHub/florianopolis_rent_pricing_monitoring/env/lib/python3.11/site-packages (from pandas->-r ../requirements.txt (line 2)) (1.26.2)\n",
      "Requirement already satisfied: python-dateutil>=2.8.2 in /Users/cacau/Documents/GitHub/florianopolis_rent_pricing_monitoring/env/lib/python3.11/site-packages (from pandas->-r ../requirements.txt (line 2)) (2.8.2)\n",
      "Requirement already satisfied: pytz>=2020.1 in /Users/cacau/Documents/GitHub/florianopolis_rent_pricing_monitoring/env/lib/python3.11/site-packages (from pandas->-r ../requirements.txt (line 2)) (2023.3.post1)\n",
      "Requirement already satisfied: tzdata>=2022.1 in /Users/cacau/Documents/GitHub/florianopolis_rent_pricing_monitoring/env/lib/python3.11/site-packages (from pandas->-r ../requirements.txt (line 2)) (2023.3)\n",
      "Requirement already satisfied: beautifulsoup4 in /Users/cacau/Documents/GitHub/florianopolis_rent_pricing_monitoring/env/lib/python3.11/site-packages (from bs4->-r ../requirements.txt (line 3)) (4.12.2)\n",
      "Requirement already satisfied: botocore<1.34.0,>=1.33.7 in /Users/cacau/Documents/GitHub/florianopolis_rent_pricing_monitoring/env/lib/python3.11/site-packages (from boto3->-r ../requirements.txt (line 4)) (1.33.7)\n",
      "Requirement already satisfied: jmespath<2.0.0,>=0.7.1 in /Users/cacau/Documents/GitHub/florianopolis_rent_pricing_monitoring/env/lib/python3.11/site-packages (from boto3->-r ../requirements.txt (line 4)) (1.0.1)\n",
      "Requirement already satisfied: s3transfer<0.9.0,>=0.8.2 in /Users/cacau/Documents/GitHub/florianopolis_rent_pricing_monitoring/env/lib/python3.11/site-packages (from boto3->-r ../requirements.txt (line 4)) (0.8.2)\n",
      "Requirement already satisfied: trio~=0.17 in /Users/cacau/Documents/GitHub/florianopolis_rent_pricing_monitoring/env/lib/python3.11/site-packages (from selenium->-r ../requirements.txt (line 5)) (0.23.1)\n",
      "Requirement already satisfied: trio-websocket~=0.9 in /Users/cacau/Documents/GitHub/florianopolis_rent_pricing_monitoring/env/lib/python3.11/site-packages (from selenium->-r ../requirements.txt (line 5)) (0.11.1)\n",
      "Requirement already satisfied: six>=1.9 in /Users/cacau/Documents/GitHub/florianopolis_rent_pricing_monitoring/env/lib/python3.11/site-packages (from html5lib->-r ../requirements.txt (line 6)) (1.16.0)\n",
      "Requirement already satisfied: webencodings in /Users/cacau/Documents/GitHub/florianopolis_rent_pricing_monitoring/env/lib/python3.11/site-packages (from html5lib->-r ../requirements.txt (line 6)) (0.5.1)\n",
      "Requirement already satisfied: contourpy>=1.0.1 in /Users/cacau/Documents/GitHub/florianopolis_rent_pricing_monitoring/env/lib/python3.11/site-packages (from matplotlib->-r ../requirements.txt (line 8)) (1.2.0)\n",
      "Requirement already satisfied: cycler>=0.10 in /Users/cacau/Documents/GitHub/florianopolis_rent_pricing_monitoring/env/lib/python3.11/site-packages (from matplotlib->-r ../requirements.txt (line 8)) (0.12.1)\n",
      "Requirement already satisfied: fonttools>=4.22.0 in /Users/cacau/Documents/GitHub/florianopolis_rent_pricing_monitoring/env/lib/python3.11/site-packages (from matplotlib->-r ../requirements.txt (line 8)) (4.46.0)\n",
      "Requirement already satisfied: kiwisolver>=1.3.1 in /Users/cacau/Documents/GitHub/florianopolis_rent_pricing_monitoring/env/lib/python3.11/site-packages (from matplotlib->-r ../requirements.txt (line 8)) (1.4.5)\n",
      "Requirement already satisfied: packaging>=20.0 in /Users/cacau/Documents/GitHub/florianopolis_rent_pricing_monitoring/env/lib/python3.11/site-packages (from matplotlib->-r ../requirements.txt (line 8)) (23.2)\n",
      "Requirement already satisfied: pillow>=8 in /Users/cacau/Documents/GitHub/florianopolis_rent_pricing_monitoring/env/lib/python3.11/site-packages (from matplotlib->-r ../requirements.txt (line 8)) (10.1.0)\n",
      "Requirement already satisfied: pyparsing>=2.3.1 in /Users/cacau/Documents/GitHub/florianopolis_rent_pricing_monitoring/env/lib/python3.11/site-packages (from matplotlib->-r ../requirements.txt (line 8)) (3.1.1)\n",
      "Requirement already satisfied: attrs>=20.1.0 in /Users/cacau/Documents/GitHub/florianopolis_rent_pricing_monitoring/env/lib/python3.11/site-packages (from trio~=0.17->selenium->-r ../requirements.txt (line 5)) (23.1.0)\n",
      "Requirement already satisfied: sortedcontainers in /Users/cacau/Documents/GitHub/florianopolis_rent_pricing_monitoring/env/lib/python3.11/site-packages (from trio~=0.17->selenium->-r ../requirements.txt (line 5)) (2.4.0)\n",
      "Requirement already satisfied: outcome in /Users/cacau/Documents/GitHub/florianopolis_rent_pricing_monitoring/env/lib/python3.11/site-packages (from trio~=0.17->selenium->-r ../requirements.txt (line 5)) (1.3.0.post0)\n",
      "Requirement already satisfied: sniffio>=1.3.0 in /Users/cacau/Documents/GitHub/florianopolis_rent_pricing_monitoring/env/lib/python3.11/site-packages (from trio~=0.17->selenium->-r ../requirements.txt (line 5)) (1.3.0)\n",
      "Requirement already satisfied: wsproto>=0.14 in /Users/cacau/Documents/GitHub/florianopolis_rent_pricing_monitoring/env/lib/python3.11/site-packages (from trio-websocket~=0.9->selenium->-r ../requirements.txt (line 5)) (1.2.0)\n",
      "Requirement already satisfied: pysocks!=1.5.7,<2.0,>=1.5.6 in /Users/cacau/Documents/GitHub/florianopolis_rent_pricing_monitoring/env/lib/python3.11/site-packages (from urllib3<3,>=1.21.1->requests->-r ../requirements.txt (line 1)) (1.7.1)\n",
      "Requirement already satisfied: soupsieve>1.2 in /Users/cacau/Documents/GitHub/florianopolis_rent_pricing_monitoring/env/lib/python3.11/site-packages (from beautifulsoup4->bs4->-r ../requirements.txt (line 3)) (2.5)\n",
      "Requirement already satisfied: h11<1,>=0.9.0 in /Users/cacau/Documents/GitHub/florianopolis_rent_pricing_monitoring/env/lib/python3.11/site-packages (from wsproto>=0.14->trio-websocket~=0.9->selenium->-r ../requirements.txt (line 5)) (0.14.0)\n",
      "\u001b[33mWARNING: There was an error checking the latest version of pip.\u001b[0m\u001b[33m\n",
      "\u001b[0mNote: you may need to restart the kernel to use updated packages.\n"
     ]
    }
   ],
   "source": [
    "pip install -r ../requirements.txt"
   ]
  },
  {
   "cell_type": "code",
   "execution_count": 2,
   "metadata": {},
   "outputs": [],
   "source": [
    "from dotenv import load_dotenv\n",
    "import os\n",
    "import sys\n",
    "\n",
    "import selenium\n",
    "from selenium import webdriver\n",
    "import boto3"
   ]
  },
  {
   "cell_type": "code",
   "execution_count": 3,
   "metadata": {},
   "outputs": [],
   "source": [
    "load_dotenv()\n",
    "\n",
    "aws_access_key_id = os.getenv('AWS_ID')\n",
    "aws_secret_access_key = os.getenv('AWS_KEY')\n",
    "github_token = os.getenv('GITHUB_TOKEN')\n",
    "\n",
    "s3 = boto3.client('s3',aws_access_key_id = aws_access_key_id, aws_secret_access_key=aws_secret_access_key)"
   ]
  },
  {
   "cell_type": "code",
   "execution_count": 4,
   "metadata": {},
   "outputs": [],
   "source": [
    "proxy_host = os.getenv('PROXY_HOST')\n",
    "proxy_username = os.getenv('PROXY_USERNAME')\n",
    "proxy_password = os.getenv('PROXY_PASSWORD')"
   ]
  },
  {
   "cell_type": "code",
   "execution_count": 5,
   "metadata": {},
   "outputs": [],
   "source": [
    "options = webdriver.ChromeOptions()\n",
    "options.add_argument(\"--incognito\")\n",
    "#options.add_argument(\"--headless\")\n",
    "options.add_argument(f'--proxy-server=http://{proxy_host}')\n",
    "options.add_argument(f'--proxy-auth={proxy_username}:{proxy_password}')\n",
    "driver = webdriver.Chrome(options=options)"
   ]
  },
  {
   "cell_type": "code",
   "execution_count": 6,
   "metadata": {},
   "outputs": [
    {
     "data": {
      "text/plain": [
       "{'chromedriverVersion': '119.0.6045.105 (38c72552c5e15ba9b3117c0967a0fd105072d7c6-refs/branch-heads/6045@{#1103})',\n",
       " 'userDataDir': '/var/folders/2z/_rgstgys255b1k3j7qnrtjrw0000gn/T/.org.chromium.Chromium.f9Svj3'}"
      ]
     },
     "execution_count": 6,
     "metadata": {},
     "output_type": "execute_result"
    }
   ],
   "source": [
    "driver.capabilities['chrome']"
   ]
  },
  {
   "cell_type": "code",
   "execution_count": 7,
   "metadata": {},
   "outputs": [],
   "source": [
    "sys.path.insert(0,'/Users/cacau/Documents/GitHub/florianopolis_rent_pricing_monitoring/code/src')"
   ]
  },
  {
   "cell_type": "code",
   "execution_count": 8,
   "metadata": {},
   "outputs": [],
   "source": [
    "from extractors import Formatter, Extractor\n",
    "from ingestors import Ingestor"
   ]
  },
  {
   "cell_type": "code",
   "execution_count": 9,
   "metadata": {},
   "outputs": [],
   "source": [
    "# def ingest(driver=None, s3=None, all=True, max_pages=None):\n",
    "#     from ingestors import Ingestor\n",
    "\n",
    "#     ingestor = Ingestor(webdriver=driver,\n",
    "#                     cidade='florianopolis',\n",
    "#                     s3=s3) # Instanciando API\n",
    "\n",
    "#     # Chamando a função de ingestão\n",
    "#     ingestor.ingest_pages(\n",
    "#         filename_pattern='page',\n",
    "#         delay_seconds=1.4,\n",
    "#         all=all,\n",
    "#         max_pages=max_pages)\n",
    "# ingest(s3=s3,driver=driver, all=True)"
   ]
  },
  {
   "cell_type": "code",
   "execution_count": 10,
   "metadata": {},
   "outputs": [],
   "source": [
    "def extract(date='2023-12-05',s3=None):\n",
    "    from extractors import Extractor\n",
    "\n",
    "    extractor = Extractor(cidade='florianopolis',\n",
    "                    s3=s3) # Instanciando API\n",
    "\n",
    "    folder_base_path = 'pipeline/raw/vivareal/florianopolis/'\n",
    "    folder_path = f'{folder_base_path}{date}'\n",
    "\n",
    "    extractor.process_folder(bucket_name = 'floriparentpricing',\n",
    "                        folder_path=folder_path,\n",
    "                        filename_pattern='processed',\n",
    "                        output_format='parquet')\n",
    "dates = ['2023-12-05']\n",
    "for i in dates:\n",
    "    extract(date=i,s3=s3)\n"
   ]
  },
  {
   "cell_type": "code",
   "execution_count": 11,
   "metadata": {},
   "outputs": [],
   "source": [
    "# formatter = Formatter(s3=s3) # Instanciando API\n",
    "\n",
    "# dates = ['2023-12-05']\n",
    "# for i in dates:\n",
    "#     formatter.run(\n",
    "#          bucket_name='floriparentpricing',\n",
    "#          datestr=i)"
   ]
  },
  {
   "cell_type": "code",
   "execution_count": 12,
   "metadata": {},
   "outputs": [],
   "source": [
    "from utils import Aggregator\n",
    "import pandas as pd\n",
    "aggregator = Aggregator(s3=s3) # Instanciando API\n",
    "\n",
    "aggregator.run(\n",
    "        bucket_name='floriparentpricing', export_method='s3')\n",
    "df = aggregator.run(\n",
    "        bucket_name='floriparentpricing', export_method='df')"
   ]
  },
  {
   "cell_type": "code",
   "execution_count": 16,
   "metadata": {},
   "outputs": [],
   "source": [
    "df.to_csv('/Users/cacau/Documents/GitHub/florianopolis_rent_pricing_monitoring/data/full_history.csv')"
   ]
  },
  {
   "cell_type": "code",
   "execution_count": 13,
   "metadata": {},
   "outputs": [
    {
     "ename": "HTTPError",
     "evalue": "404 Client Error: Not Found for url: https://api.github.com/repos/strangercacaus/florianopolis_rent_pricing_monitoring/contents/data/listings_history.csv?ref=main",
     "output_type": "error",
     "traceback": [
      "\u001b[0;31m---------------------------------------------------------------------------\u001b[0m",
      "\u001b[0;31mHTTPError\u001b[0m                                 Traceback (most recent call last)",
      "\u001b[1;32m/Users/cacau/Documents/GitHub/florianopolis_rent_pricing_monitoring/tests/control_flow.ipynb Célula 13\u001b[0m line \u001b[0;36m8\n\u001b[1;32m      <a href='vscode-notebook-cell:/Users/cacau/Documents/GitHub/florianopolis_rent_pricing_monitoring/tests/control_flow.ipynb#X14sZmlsZQ%3D%3D?line=0'>1</a>\u001b[0m \u001b[39mfrom\u001b[39;00m \u001b[39mutils\u001b[39;00m \u001b[39mimport\u001b[39;00m GithubApi\n\u001b[1;32m      <a href='vscode-notebook-cell:/Users/cacau/Documents/GitHub/florianopolis_rent_pricing_monitoring/tests/control_flow.ipynb#X14sZmlsZQ%3D%3D?line=2'>3</a>\u001b[0m api \u001b[39m=\u001b[39m GithubApi(token\u001b[39m=\u001b[39mgithub_token,\n\u001b[1;32m      <a href='vscode-notebook-cell:/Users/cacau/Documents/GitHub/florianopolis_rent_pricing_monitoring/tests/control_flow.ipynb#X14sZmlsZQ%3D%3D?line=3'>4</a>\u001b[0m                 owner\u001b[39m=\u001b[39m\u001b[39m'\u001b[39m\u001b[39mstrangercacaus\u001b[39m\u001b[39m'\u001b[39m,\n\u001b[1;32m      <a href='vscode-notebook-cell:/Users/cacau/Documents/GitHub/florianopolis_rent_pricing_monitoring/tests/control_flow.ipynb#X14sZmlsZQ%3D%3D?line=4'>5</a>\u001b[0m                 repo\u001b[39m=\u001b[39m\u001b[39m'\u001b[39m\u001b[39mflorianopolis_rent_pricing_monitoring\u001b[39m\u001b[39m'\u001b[39m,\n\u001b[1;32m      <a href='vscode-notebook-cell:/Users/cacau/Documents/GitHub/florianopolis_rent_pricing_monitoring/tests/control_flow.ipynb#X14sZmlsZQ%3D%3D?line=5'>6</a>\u001b[0m                 branch\u001b[39m=\u001b[39m\u001b[39m'\u001b[39m\u001b[39mmain\u001b[39m\u001b[39m'\u001b[39m)\n\u001b[0;32m----> <a href='vscode-notebook-cell:/Users/cacau/Documents/GitHub/florianopolis_rent_pricing_monitoring/tests/control_flow.ipynb#X14sZmlsZQ%3D%3D?line=7'>8</a>\u001b[0m api\u001b[39m.\u001b[39;49mupdate_file_content(file_path\u001b[39m=\u001b[39;49m\u001b[39m'\u001b[39;49m\u001b[39mdata/listings_history.csv\u001b[39;49m\u001b[39m'\u001b[39;49m,\n\u001b[1;32m      <a href='vscode-notebook-cell:/Users/cacau/Documents/GitHub/florianopolis_rent_pricing_monitoring/tests/control_flow.ipynb#X14sZmlsZQ%3D%3D?line=8'>9</a>\u001b[0m                          new_content \u001b[39m=\u001b[39;49m df,\n\u001b[1;32m     <a href='vscode-notebook-cell:/Users/cacau/Documents/GitHub/florianopolis_rent_pricing_monitoring/tests/control_flow.ipynb#X14sZmlsZQ%3D%3D?line=9'>10</a>\u001b[0m                          method\u001b[39m=\u001b[39;49m\u001b[39m'\u001b[39;49m\u001b[39moverwrite\u001b[39;49m\u001b[39m'\u001b[39;49m)\n",
      "File \u001b[0;32m~/Documents/GitHub/florianopolis_rent_pricing_monitoring/code/src/utils.py:194\u001b[0m, in \u001b[0;36mGithubApi.update_file_content\u001b[0;34m(self, file_path, new_content, method)\u001b[0m\n\u001b[1;32m    192\u001b[0m \u001b[39mif\u001b[39;00m \u001b[39mself\u001b[39m\u001b[39m.\u001b[39mbranch:\n\u001b[1;32m    193\u001b[0m     file_url \u001b[39m=\u001b[39m \u001b[39mf\u001b[39m\u001b[39m'\u001b[39m\u001b[39m{\u001b[39;00mfile_url\u001b[39m}\u001b[39;00m\u001b[39m?ref=\u001b[39m\u001b[39m{\u001b[39;00m\u001b[39mself\u001b[39m\u001b[39m.\u001b[39mbranch\u001b[39m}\u001b[39;00m\u001b[39m'\u001b[39m\n\u001b[0;32m--> 194\u001b[0m download_url, current_sha \u001b[39m=\u001b[39m \u001b[39mself\u001b[39;49m\u001b[39m.\u001b[39;49mget_file_info(file_url)\n\u001b[1;32m    195\u001b[0m current_content \u001b[39m=\u001b[39m \u001b[39mself\u001b[39m\u001b[39m.\u001b[39m_download_current_content(download_url)\n\u001b[1;32m    196\u001b[0m \u001b[39mif\u001b[39;00m method \u001b[39m==\u001b[39m \u001b[39m'\u001b[39m\u001b[39mappend\u001b[39m\u001b[39m'\u001b[39m:\n",
      "File \u001b[0;32m~/Documents/GitHub/florianopolis_rent_pricing_monitoring/code/src/utils.py:97\u001b[0m, in \u001b[0;36mGithubApi.get_file_info\u001b[0;34m(self, file_url)\u001b[0m\n\u001b[1;32m     95\u001b[0m headers \u001b[39m=\u001b[39m {\u001b[39m'\u001b[39m\u001b[39mAuthorization\u001b[39m\u001b[39m'\u001b[39m: \u001b[39mf\u001b[39m\u001b[39m'\u001b[39m\u001b[39mtoken \u001b[39m\u001b[39m{\u001b[39;00m\u001b[39mself\u001b[39m\u001b[39m.\u001b[39mtoken\u001b[39m}\u001b[39;00m\u001b[39m'\u001b[39m}\n\u001b[1;32m     96\u001b[0m response \u001b[39m=\u001b[39m requests\u001b[39m.\u001b[39mget(url\u001b[39m=\u001b[39mfile_url, headers\u001b[39m=\u001b[39mheaders)\n\u001b[0;32m---> 97\u001b[0m response\u001b[39m.\u001b[39;49mraise_for_status()\n\u001b[1;32m     98\u001b[0m response_json \u001b[39m=\u001b[39m response\u001b[39m.\u001b[39mjson()\n\u001b[1;32m     99\u001b[0m download_url \u001b[39m=\u001b[39m response_json[\u001b[39m'\u001b[39m\u001b[39mdownload_url\u001b[39m\u001b[39m'\u001b[39m]\n",
      "File \u001b[0;32m~/Documents/GitHub/florianopolis_rent_pricing_monitoring/env/lib/python3.11/site-packages/requests/models.py:1021\u001b[0m, in \u001b[0;36mResponse.raise_for_status\u001b[0;34m(self)\u001b[0m\n\u001b[1;32m   1016\u001b[0m     http_error_msg \u001b[39m=\u001b[39m (\n\u001b[1;32m   1017\u001b[0m         \u001b[39mf\u001b[39m\u001b[39m\"\u001b[39m\u001b[39m{\u001b[39;00m\u001b[39mself\u001b[39m\u001b[39m.\u001b[39mstatus_code\u001b[39m}\u001b[39;00m\u001b[39m Server Error: \u001b[39m\u001b[39m{\u001b[39;00mreason\u001b[39m}\u001b[39;00m\u001b[39m for url: \u001b[39m\u001b[39m{\u001b[39;00m\u001b[39mself\u001b[39m\u001b[39m.\u001b[39murl\u001b[39m}\u001b[39;00m\u001b[39m\"\u001b[39m\n\u001b[1;32m   1018\u001b[0m     )\n\u001b[1;32m   1020\u001b[0m \u001b[39mif\u001b[39;00m http_error_msg:\n\u001b[0;32m-> 1021\u001b[0m     \u001b[39mraise\u001b[39;00m HTTPError(http_error_msg, response\u001b[39m=\u001b[39m\u001b[39mself\u001b[39m)\n",
      "\u001b[0;31mHTTPError\u001b[0m: 404 Client Error: Not Found for url: https://api.github.com/repos/strangercacaus/florianopolis_rent_pricing_monitoring/contents/data/listings_history.csv?ref=main"
     ]
    }
   ],
   "source": [
    "from utils import GithubApi\n",
    "\n",
    "api = GithubApi(token=github_token,\n",
    "                owner='strangercacaus',\n",
    "                repo='florianopolis_rent_pricing_monitoring',\n",
    "                branch='main')\n",
    "\n",
    "api.update_file_content(file_path='data/listings_history.csv',\n",
    "                         new_content = df,\n",
    "                         method='overwrite')"
   ]
  },
  {
   "cell_type": "code",
   "execution_count": null,
   "metadata": {},
   "outputs": [],
   "source": [
    "import matplotlib.pyplot as plt\n",
    "import numpy as np\n",
    "x = ['1','2','3','4']\n",
    "y1 = np.array((32.9, 18.5, 17.5, 18.4))\n",
    "y2 = np.array([25.7 ,17.3 ,16, 16.1])\n",
    "y3 = np.array([20.9, 22.9 ,18.0, 18.3])\n",
    "y4 = np.array([20.9, 18.5, 17.5, 15.8])\n",
    "\n",
    "fig, ax = plt.subplots()\n",
    "ax.plot(x, y1, label='With print')\n",
    "ax.plot(x, y2, label='With Logger')\n",
    "ax.plot(x, y3, label='With lists')\n",
    "ax.plot(x, y4, label='With global variables')\n",
    "\n",
    "ax.legend()\n",
    "ax.set_xlabel('Execucão')\n",
    "ax.set_ylabel('Tempo de execucão')\n",
    "ax.set_title('Impacto de modificações na performance')\n",
    "\n",
    "plt.show()\n"
   ]
  },
  {
   "cell_type": "markdown",
   "metadata": {},
   "source": []
  }
 ],
 "metadata": {
  "kernelspec": {
   "display_name": "env",
   "language": "python",
   "name": "python3"
  },
  "language_info": {
   "codemirror_mode": {
    "name": "ipython",
    "version": 3
   },
   "file_extension": ".py",
   "mimetype": "text/x-python",
   "name": "python",
   "nbconvert_exporter": "python",
   "pygments_lexer": "ipython3",
   "version": "3.11.4"
  }
 },
 "nbformat": 4,
 "nbformat_minor": 2
}
